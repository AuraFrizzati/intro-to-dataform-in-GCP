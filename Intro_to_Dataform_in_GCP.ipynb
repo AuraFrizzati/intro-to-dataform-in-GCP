{
  "nbformat": 4,
  "nbformat_minor": 0,
  "metadata": {
    "colab": {
      "provenance": [],
      "authorship_tag": "ABX9TyPbciAXwnStWkD29ZtbOtWw",
      "include_colab_link": true
    },
    "kernelspec": {
      "name": "python3",
      "display_name": "Python 3"
    },
    "language_info": {
      "name": "python"
    }
  },
  "cells": [
    {
      "cell_type": "markdown",
      "metadata": {
        "id": "view-in-github",
        "colab_type": "text"
      },
      "source": [
        "<a href=\"https://colab.research.google.com/github/AuraFrizzati/intro-to-dataform-in-GCP/blob/main/Intro_to_Dataform_in_GCP.ipynb\" target=\"_parent\"><img src=\"https://colab.research.google.com/assets/colab-badge.svg\" alt=\"Open In Colab\"/></a>"
      ]
    },
    {
      "cell_type": "markdown",
      "source": [
        "# **Intro to Dataform in GCP**\n"
      ],
      "metadata": {
        "id": "Nx3xqMh-FBed"
      }
    },
    {
      "cell_type": "markdown",
      "source": [
        "https://www.youtube.com/watch?v=285HnXL9_rk\n",
        "\n",
        "1. Overview of Dataform in GCP\n",
        "2. Setting up Dataform in GCP and establishing Github integration\n",
        "3. Exploring Dataform's capabilities (demo examples)"
      ],
      "metadata": {
        "id": "08syMAEeFG7H"
      }
    },
    {
      "cell_type": "code",
      "execution_count": null,
      "metadata": {
        "id": "Rw2Yh3JhAt0-"
      },
      "outputs": [],
      "source": []
    }
  ]
}